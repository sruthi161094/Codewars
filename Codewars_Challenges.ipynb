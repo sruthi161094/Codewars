{
  "nbformat": 4,
  "nbformat_minor": 0,
  "metadata": {
    "colab": {
      "name": "Codewars Challenges.ipynb",
      "provenance": [],
      "collapsed_sections": []
    },
    "kernelspec": {
      "name": "python3",
      "display_name": "Python 3"
    },
    "language_info": {
      "name": "python"
    }
  },
  "cells": [
    {
      "cell_type": "markdown",
      "metadata": {
        "id": "0eFKw_Hz6QN5"
      },
      "source": [
        "Equal Sides of an Array"
      ]
    },
    {
      "cell_type": "code",
      "metadata": {
        "id": "JcJn5ZRH6Jk7"
      },
      "source": [
        "def find_even_index(arr):\n",
        "    array_length=len(arr)\n",
        "    lst=[]\n",
        "    for i in range(0,array_length):\n",
        "        if sum(arr[:i])==sum(arr[i+1:]):\n",
        "            lst.append(i)\n",
        "    if len(lst)==0:\n",
        "        return -1\n",
        "    else:\n",
        "        return lst[0]"
      ],
      "execution_count": null,
      "outputs": []
    },
    {
      "cell_type": "markdown",
      "metadata": {
        "id": "188Mj6c66PkV"
      },
      "source": [
        "The Vowel Code"
      ]
    },
    {
      "cell_type": "code",
      "metadata": {
        "id": "PORjH2Ll6XHV"
      },
      "source": [
        "def encode(st):\n",
        "    encoded_string=''\n",
        "    encode_dict={'a':'1','e':'2','i':'3','o':'4','u':'5'}\n",
        "    for i in st:\n",
        "        if i.lower() in encode_dict:\n",
        "            encoded_string+=encode_dict[i]\n",
        "        else:\n",
        "            encoded_string+=i            \n",
        "            \n",
        "    return encoded_string\n",
        "    \n",
        "def decode(st):\n",
        "    decoded_string=''\n",
        "    decode_dict={'1':'a','2':'e','3':'i','4':'o','5':'u'}\n",
        "    for i in st:\n",
        "        if i.lower() in decode_dict:\n",
        "            decoded_string+=decode_dict[i]\n",
        "        else:\n",
        "            decoded_string+=i\n",
        "            \n",
        "    return decoded_string"
      ],
      "execution_count": null,
      "outputs": []
    },
    {
      "cell_type": "markdown",
      "metadata": {
        "id": "MlxdpWhn6c5R"
      },
      "source": [
        "Valid Parenthesis"
      ]
    },
    {
      "cell_type": "code",
      "metadata": {
        "id": "I5n0aErN6aDR"
      },
      "source": [
        "import string\n",
        "string_list=list(string.ascii_lowercase)\n",
        "def valid_parentheses(string):\n",
        "    \n",
        "    stack=[]\n",
        "    for i in string:\n",
        "        if i.lower() in string_list:\n",
        "            i.replace(i,'')\n",
        "        elif i =='(':\n",
        "            stack.append(i)\n",
        "        else:\n",
        "            if not stack:\n",
        "                return False\n",
        "            elif stack.pop()=='(':\n",
        "                if i!=')':\n",
        "                    return False\n",
        "    if not stack:\n",
        "        return True\n",
        "    else:\n",
        "        return False"
      ],
      "execution_count": null,
      "outputs": []
    },
    {
      "cell_type": "markdown",
      "metadata": {
        "id": "JPYgjEEn6f92"
      },
      "source": [
        "Human Readable Time"
      ]
    },
    {
      "cell_type": "code",
      "metadata": {
        "id": "w45j6VDJ6g3O"
      },
      "source": [
        "def make_readable(seconds):\n",
        "    \n",
        "    hours=seconds//3600\n",
        "    seconds=seconds%3600\n",
        "    mins=seconds//60\n",
        "    seconds=seconds%60\n",
        "    secs=seconds\n",
        "    return '{:02d}'.format(hours) + ':' + '{:02d}'.format(mins) + ':' + '{:02d}'.format(secs)"
      ],
      "execution_count": null,
      "outputs": []
    },
    {
      "cell_type": "markdown",
      "metadata": {
        "id": "l5XNpaK76r0k"
      },
      "source": [
        "Find the Unique Number"
      ]
    },
    {
      "cell_type": "code",
      "metadata": {
        "id": "J71_UveV6min"
      },
      "source": [
        "def find_uniq(arr):\n",
        "    arr=sorted(arr)\n",
        "    if arr[0]!=arr[1]:\n",
        "        return arr[0]\n",
        "    else:\n",
        "        return arr[-1]"
      ],
      "execution_count": null,
      "outputs": []
    },
    {
      "cell_type": "markdown",
      "metadata": {
        "id": "l0VKfjMc6xxZ"
      },
      "source": [
        "Kebabize"
      ]
    },
    {
      "cell_type": "code",
      "metadata": {
        "id": "CMD0pUS06uqX"
      },
      "source": [
        "def kebabize(string):\n",
        "    result=''\n",
        "    for i in string:\n",
        "        if i.isupper():\n",
        "            result+='-'+i.lower()\n",
        "        elif i.isdigit():\n",
        "            result+=i.replace(i,'')\n",
        "        else:\n",
        "            result+=i\n",
        "    if result.startswith('-'):\n",
        "        return result[1:]\n",
        "    else:\n",
        "        return result"
      ],
      "execution_count": null,
      "outputs": []
    },
    {
      "cell_type": "markdown",
      "metadata": {
        "id": "3w26L4Jd62x-"
      },
      "source": [
        "Longest Palindrome"
      ]
    },
    {
      "cell_type": "code",
      "metadata": {
        "id": "0tuY88L862ND"
      },
      "source": [
        "def longest_palindrome (s):\n",
        "    lst=[]\n",
        "    n=len(s)\n",
        "    for i in range(n):\n",
        "        for j in range(i+1,n+1):\n",
        "            chunk=s[i:j]\n",
        "            if chunk==chunk[::-1]:\n",
        "                lst.append(chunk)\n",
        "    longest_string=max(lst,key=len,default=\"\")\n",
        "    return len(longest_string)"
      ],
      "execution_count": null,
      "outputs": []
    },
    {
      "cell_type": "markdown",
      "metadata": {
        "id": "NownR-2769eB"
      },
      "source": [
        "Take a Number And Sum Its Digits Raised To The Consecutive Powers And ....¡Eureka!!"
      ]
    },
    {
      "cell_type": "code",
      "metadata": {
        "id": "7dpUXdXB68r6"
      },
      "source": [
        "def sum_dig(n):\n",
        "    tot=0\n",
        "    a=1\n",
        "    num_str=str(n)\n",
        "    for i in num_str:\n",
        "        tot+=int(i)**a\n",
        "        a+=1\n",
        "    return tot\n",
        "    \n",
        "    \n",
        "def sum_dig_pow(a,b):\n",
        "    lst=[]\n",
        "    for i in range(a,b+1):\n",
        "        if i >9:\n",
        "            s=sum_dig(i)\n",
        "            if s==i:\n",
        "                lst.append(i)\n",
        "        else:\n",
        "            lst.append(i)\n",
        "    return lst"
      ],
      "execution_count": null,
      "outputs": []
    },
    {
      "cell_type": "markdown",
      "metadata": {
        "id": "epYefP537PCn"
      },
      "source": [
        "Product of consecutive Fib numbers"
      ]
    },
    {
      "cell_type": "code",
      "metadata": {
        "id": "GCI1fqOi7Ps-"
      },
      "source": [
        "def fibonacci(n):\n",
        "    n0=0\n",
        "    n1=1\n",
        "    count=0\n",
        "    if n==1:\n",
        "        return n1\n",
        "    else: \n",
        "        \n",
        "        while count<n:\n",
        "            nn=n0+n1\n",
        "            n0=n1\n",
        "            n1=nn\n",
        "            count+=1\n",
        "        return n0\n",
        "            \n",
        "\n",
        "def productFib(prod):\n",
        "    current_value=0\n",
        "    x=0\n",
        "    fib0=0\n",
        "    fib1=1\n",
        "    while current_value<prod:\n",
        "        #x+=1\n",
        "        fib0=fibonacci(x)\n",
        "        fib1=fibonacci(x+1)\n",
        "        current_value=fib0*fib1\n",
        "        x+=1\n",
        "    if current_value==prod:\n",
        "        return [fib0,fib1,True]\n",
        "    else:\n",
        "        return [fib0,fib1,False]"
      ],
      "execution_count": null,
      "outputs": []
    },
    {
      "cell_type": "markdown",
      "metadata": {
        "id": "yabAA7N17ZDM"
      },
      "source": [
        "Duplicate Encoder"
      ]
    },
    {
      "cell_type": "code",
      "metadata": {
        "id": "8Hi2hjQP7YZ8"
      },
      "source": [
        "def duplicate_encode(word):\n",
        "    chars=[]\n",
        "    word=word.lower()\n",
        "    for character in word:\n",
        "        if word.count(character)==1:\n",
        "            chars.append('(')\n",
        "        else:\n",
        "            chars.append(')')\n",
        "    return \"\".join(chars)"
      ],
      "execution_count": null,
      "outputs": []
    },
    {
      "cell_type": "markdown",
      "metadata": {
        "id": "vdweDBtf7iWq"
      },
      "source": [
        "String Incrementer"
      ]
    },
    {
      "cell_type": "code",
      "metadata": {
        "id": "WkUqq3Rj7dtg"
      },
      "source": [
        "import string\n",
        "def increment_string(strng):\n",
        "    text=strng.rstrip('0123456789')\n",
        "    num=strng[len(text):]\n",
        "    if num=='':\n",
        "        return strng + '1'\n",
        "    else:\n",
        "        length=len(num)\n",
        "        return text + str(int(num)+1).zfill(length)"
      ],
      "execution_count": null,
      "outputs": []
    },
    {
      "cell_type": "markdown",
      "metadata": {
        "id": "P-dtuhSU7l2X"
      },
      "source": [
        "Jaden Casing Strings"
      ]
    },
    {
      "cell_type": "code",
      "metadata": {
        "id": "dcOKapxB7k_c"
      },
      "source": [
        "def to_jaden_case(string):\n",
        "    string=' '.join(w[0].upper() + w[1:] for w in string.strip().split(' '))\n",
        "    return(string)"
      ],
      "execution_count": null,
      "outputs": []
    },
    {
      "cell_type": "markdown",
      "metadata": {
        "id": "WJG_4fh78AvB"
      },
      "source": [
        "Consecutive Strings"
      ]
    },
    {
      "cell_type": "code",
      "metadata": {
        "id": "5oRWdffU79LA"
      },
      "source": [
        "def longest_consec(strarr, k):\n",
        "    n=len(strarr)\n",
        "    new_a=[]\n",
        "    new_str=''\n",
        "    if n==0 or k>n or k<=0:\n",
        "        return(\"\")\n",
        "    else:\n",
        "        for i in range(n-k+1):\n",
        "            new_str=''.join(strarr[i:k])\n",
        "            new_a.append(new_str)\n",
        "            k+=1\n",
        "        longest_string=max(new_a,key=len)\n",
        "        return(longest_string)"
      ],
      "execution_count": null,
      "outputs": []
    },
    {
      "cell_type": "markdown",
      "metadata": {
        "id": "IGV03mns8FDg"
      },
      "source": [
        "Directions Reduction"
      ]
    },
    {
      "cell_type": "code",
      "metadata": {
        "id": "-npLcEU38Emc"
      },
      "source": [
        "def dirReduc(arr):\n",
        "    opp={'NORTH':'SOUTH','SOUTH':'NORTH','EAST':'WEST','WEST':'EAST'}\n",
        "    new_arr=[]\n",
        "    for i in arr:\n",
        "        if len(new_arr)>0 and new_arr[-1]==opp[i]:\n",
        "            new_arr.pop()\n",
        "        else:\n",
        "            new_arr.append(i)\n",
        "    return(new_arr)"
      ],
      "execution_count": null,
      "outputs": []
    },
    {
      "cell_type": "markdown",
      "metadata": {
        "id": "Ckh5zcx68Odl"
      },
      "source": [
        "Square Every Digit"
      ]
    },
    {
      "cell_type": "code",
      "metadata": {
        "id": "AFy2mhCu8LB9"
      },
      "source": [
        "def square_digits(num):\n",
        "    squared_num=''\n",
        "    for i in str(num):\n",
        "        squared_num=squared_num+str(int(i)**2)\n",
        "    return(int(squared_num))"
      ],
      "execution_count": null,
      "outputs": []
    },
    {
      "cell_type": "markdown",
      "metadata": {
        "id": "5xQZFlkG8V0W"
      },
      "source": [
        "Detect Pangram"
      ]
    },
    {
      "cell_type": "code",
      "metadata": {
        "id": "UKIjD1ea8R78"
      },
      "source": [
        "import string\n",
        "import re\n",
        "\n",
        "def is_pangram(s):\n",
        "    uniques=[]\n",
        "    alphabet_list=list(string.ascii_lowercase)\n",
        "    #print(alphabet_list)\n",
        "    s=re.sub(\"[^a-zA-Z]+\",\"\",s)\n",
        "    s=s.lower()\n",
        "    s=list(s.replace(\" \",\"\"))\n",
        "\n",
        "    for i in s:\n",
        "        if i not in uniques:\n",
        "            uniques.append(i)\n",
        "    #print(sorted(uniques))\n",
        "    if sorted(uniques)==alphabet_list:\n",
        "        return True\n",
        "    else:\n",
        "        return False"
      ],
      "execution_count": null,
      "outputs": []
    },
    {
      "cell_type": "markdown",
      "metadata": {
        "id": "MoFsVBoO8YFt"
      },
      "source": [
        "Remove Last and First Character"
      ]
    },
    {
      "cell_type": "code",
      "metadata": {
        "id": "C33E2XOp8ZMG"
      },
      "source": [
        "def remove_char(s):\n",
        "    new_string=s[1:-1]\n",
        "    return(new_string)"
      ],
      "execution_count": null,
      "outputs": []
    },
    {
      "cell_type": "markdown",
      "metadata": {
        "id": "558tor6q8l2U"
      },
      "source": [
        "Persistant Bugger"
      ]
    },
    {
      "cell_type": "code",
      "metadata": {
        "id": "dCwncoE78lDj"
      },
      "source": [
        "def get_digits(n):\n",
        "    digits=[]\n",
        "    while n:\n",
        "        n, digit=divmod(n,10)\n",
        "        digits.append(digit)\n",
        "    return(digits)\n",
        "\n",
        "def multiply_digits(digits):\n",
        "    multiplied_value=1\n",
        "    while digits:\n",
        "        multiplied_value*=digits.pop()\n",
        "    return(multiplied_value)\n",
        "        \n",
        "\n",
        "def persistence(n):\n",
        "    count=0\n",
        "    while n>=10:\n",
        "        n=multiply_digits(get_digits(n))\n",
        "        count+=1\n",
        "    return(count)"
      ],
      "execution_count": null,
      "outputs": []
    },
    {
      "cell_type": "markdown",
      "metadata": {
        "id": "kwDXKCeS8uuF"
      },
      "source": [
        "Sum of two lowest positive numbers"
      ]
    },
    {
      "cell_type": "code",
      "metadata": {
        "id": "v735Qx8F8r4f"
      },
      "source": [
        "def sum_two_smallest_numbers(numbers):\n",
        "    numbers2=sorted(numbers)\n",
        "    total=numbers2[0]+numbers2[1]\n",
        "    return(total)"
      ],
      "execution_count": null,
      "outputs": []
    },
    {
      "cell_type": "markdown",
      "metadata": {
        "id": "yonoQJos81sS"
      },
      "source": [
        "Tribonacci Sequence"
      ]
    },
    {
      "cell_type": "code",
      "metadata": {
        "id": "Z7QKnIfV82YC"
      },
      "source": [
        "def tribonacci(signature, n):\n",
        "    n0=signature[0]\n",
        "    n1=signature[1]\n",
        "    n2=signature[2]\n",
        "    count=3\n",
        "    \n",
        "    if n==0:\n",
        "        tribonacci_list=[]\n",
        "\n",
        "    else:\n",
        "        tribonacci_list=signature[:n].copy() \n",
        "        while count<n:\n",
        "        \n",
        "            nn=n0+n1+n2\n",
        "            tribonacci_list.append(nn)\n",
        "\n",
        "            n0=n1\n",
        "            n1=n2\n",
        "            n2=nn\n",
        "            count+=1\n",
        "    return(tribonacci_list)"
      ],
      "execution_count": null,
      "outputs": []
    },
    {
      "cell_type": "markdown",
      "metadata": {
        "id": "Z1a3t4nD8_6T"
      },
      "source": [
        "Vowel Count"
      ]
    },
    {
      "cell_type": "code",
      "metadata": {
        "id": "FLR-OeHP877a"
      },
      "source": [
        " def get_count(input_str):\n",
        "    num_vowels = 0    \n",
        "    vowels=['a','e','i','o','u']    #predefne list of vowels\n",
        "    input_str=list(input_str)    #convert the input string to list of characters        \n",
        "    for character in input_str:     #consider each character in the inut string list       \n",
        "        if character in vowels:    #check if the character is a vowel\n",
        "            num_vowels+=1            #Increment the count if the character is in the list of vowels\n",
        "\n",
        "    return num_vowels"
      ],
      "execution_count": null,
      "outputs": []
    }
  ]
}